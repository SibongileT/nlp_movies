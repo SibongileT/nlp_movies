{
 "cells": [
  {
   "cell_type": "code",
   "execution_count": 1,
   "metadata": {},
   "outputs": [
    {
     "name": "stderr",
     "output_type": "stream",
     "text": [
      "[nltk_data] Downloading package punkt to\n",
      "[nltk_data]     /Users/sibongiletoure/nltk_data...\n",
      "[nltk_data]   Package punkt is already up-to-date!\n"
     ]
    }
   ],
   "source": [
    "import pandas as pd\n",
    "import nltk\n",
    "from nltk.corpus import stopwords\n",
    "from nltk.corpus import words\n",
    "from textblob import TextBlob\n",
    "nltk.download('punkt')\n",
    "plot_df = pd.read_pickle(\"final_plot.pkl\")"
   ]
  },
  {
   "cell_type": "markdown",
   "metadata": {},
   "source": [
    "### Cleaning the plots_df\n",
    "* After merging the plots some have NaNs.I will drop those\n",
    "* Some plots also have multiple plots attached to it.I will take the longest one and drop the writer by splitting it at the '::'\n",
    "* Finally I will add the year of release for topic modeling later"
   ]
  },
  {
   "cell_type": "code",
   "execution_count": 2,
   "metadata": {},
   "outputs": [],
   "source": [
    "plot_df = plot_df.dropna().reset_index(drop=True)"
   ]
  },
  {
   "cell_type": "code",
   "execution_count": 3,
   "metadata": {},
   "outputs": [],
   "source": [
    "plots_list = []\n",
    "for movie_plots in plot_df['plot']:\n",
    "    max_plot_len = 0\n",
    "    max_plot = ''\n",
    "    for plot in movie_plots:\n",
    "        if max_plot_len <= len(plot):\n",
    "            max_plot = plot\n",
    "            max_plot_len = len(plot)\n",
    "        max_plot = max_plot.split('::')[0]\n",
    "    plots_list.append(max_plot)    \n",
    "#plots_list\n",
    "plot_df['plot'] = plots_list"
   ]
  },
  {
   "cell_type": "code",
   "execution_count": 4,
   "metadata": {},
   "outputs": [],
   "source": [
    "import re\n",
    "year_list = []\n",
    "for date in plot_df['release_date']:\n",
    "    year = re.findall(\"\\d{4}\", date)[0]\n",
    "    year_list.append(int(year))\n",
    "plot_df['year_of_release'] = year_list"
   ]
  },
  {
   "cell_type": "code",
   "execution_count": 94,
   "metadata": {},
   "outputs": [
    {
     "data": {
      "text/html": [
       "<div>\n",
       "<style scoped>\n",
       "    .dataframe tbody tr th:only-of-type {\n",
       "        vertical-align: middle;\n",
       "    }\n",
       "\n",
       "    .dataframe tbody tr th {\n",
       "        vertical-align: top;\n",
       "    }\n",
       "\n",
       "    .dataframe thead th {\n",
       "        text-align: right;\n",
       "    }\n",
       "</style>\n",
       "<table border=\"1\" class=\"dataframe\">\n",
       "  <thead>\n",
       "    <tr style=\"text-align: right;\">\n",
       "      <th></th>\n",
       "      <th>title</th>\n",
       "      <th>title_id</th>\n",
       "      <th>genres</th>\n",
       "      <th>release_date</th>\n",
       "      <th>plot</th>\n",
       "      <th>year_of_release</th>\n",
       "    </tr>\n",
       "  </thead>\n",
       "  <tbody>\n",
       "    <tr>\n",
       "      <th>0</th>\n",
       "      <td>Summer Stock</td>\n",
       "      <td>tt0043012</td>\n",
       "      <td>Musical, Romance</td>\n",
       "      <td>31 August 1950</td>\n",
       "      <td>As a favor to her actress sister Abigail, New ...</td>\n",
       "      <td>1950</td>\n",
       "    </tr>\n",
       "    <tr>\n",
       "      <th>1</th>\n",
       "      <td>In a Lonely Place</td>\n",
       "      <td>tt0042593</td>\n",
       "      <td>Drama, Film-Noir, Mystery</td>\n",
       "      <td>17 May 1950</td>\n",
       "      <td>Dixon Steele is a Hollywood screenwriter who h...</td>\n",
       "      <td>1950</td>\n",
       "    </tr>\n",
       "    <tr>\n",
       "      <th>2</th>\n",
       "      <td>Sunset Blvd.</td>\n",
       "      <td>tt0043014</td>\n",
       "      <td>Drama, Film-Noir</td>\n",
       "      <td>10 August 1950</td>\n",
       "      <td>Joe Gillis is a struggling hack B-movie Hollyw...</td>\n",
       "      <td>1950</td>\n",
       "    </tr>\n",
       "    <tr>\n",
       "      <th>3</th>\n",
       "      <td>Cinderella</td>\n",
       "      <td>tt0042332</td>\n",
       "      <td>Animation, Family, Fantasy</td>\n",
       "      <td>15 February 1950</td>\n",
       "      <td>In a far away, long ago kingdom, Cinderella is...</td>\n",
       "      <td>1950</td>\n",
       "    </tr>\n",
       "    <tr>\n",
       "      <th>4</th>\n",
       "      <td>All About Eve</td>\n",
       "      <td>tt0042192</td>\n",
       "      <td>Drama</td>\n",
       "      <td>13 October 1950</td>\n",
       "      <td>Stage star Margo Channing is friend to playwri...</td>\n",
       "      <td>1950</td>\n",
       "    </tr>\n",
       "    <tr>\n",
       "      <th>...</th>\n",
       "      <td>...</td>\n",
       "      <td>...</td>\n",
       "      <td>...</td>\n",
       "      <td>...</td>\n",
       "      <td>...</td>\n",
       "      <td>...</td>\n",
       "    </tr>\n",
       "    <tr>\n",
       "      <th>53602</th>\n",
       "      <td>Sang froid</td>\n",
       "      <td>tt11895902</td>\n",
       "      <td>Drama</td>\n",
       "      <td>11 September 2020</td>\n",
       "      <td>Claire is a lawyer. Obsessed with her work, sh...</td>\n",
       "      <td>2020</td>\n",
       "    </tr>\n",
       "    <tr>\n",
       "      <th>53603</th>\n",
       "      <td>Bitterzoet Concert Film</td>\n",
       "      <td>tt12626546</td>\n",
       "      <td>Music</td>\n",
       "      <td>3 July 2020</td>\n",
       "      <td>In January 2020, Eefje released her fourth alb...</td>\n",
       "      <td>2020</td>\n",
       "    </tr>\n",
       "    <tr>\n",
       "      <th>53604</th>\n",
       "      <td>Kiwewe Nyeusi (Black Trauma)</td>\n",
       "      <td>tt12798962</td>\n",
       "      <td>Drama</td>\n",
       "      <td>6 July 2020</td>\n",
       "      <td>Kiwewe Nyeusi is Swahili for the words Black T...</td>\n",
       "      <td>2020</td>\n",
       "    </tr>\n",
       "    <tr>\n",
       "      <th>53605</th>\n",
       "      <td>Who Laughs in Hell</td>\n",
       "      <td>tt12007548</td>\n",
       "      <td>Comedy, Drama, Thriller</td>\n",
       "      <td>25 March 2020</td>\n",
       "      <td>King (Liam Bilsky) is an extremely hostile, mo...</td>\n",
       "      <td>2020</td>\n",
       "    </tr>\n",
       "    <tr>\n",
       "      <th>53606</th>\n",
       "      <td>Gully Gang</td>\n",
       "      <td>tt13369990</td>\n",
       "      <td>Comedy</td>\n",
       "      <td>9 October 2020</td>\n",
       "      <td>A man named Malli, who was already in love wit...</td>\n",
       "      <td>2020</td>\n",
       "    </tr>\n",
       "  </tbody>\n",
       "</table>\n",
       "<p>53607 rows × 6 columns</p>\n",
       "</div>"
      ],
      "text/plain": [
       "                              title    title_id                      genres  \\\n",
       "0                      Summer Stock   tt0043012            Musical, Romance   \n",
       "1                 In a Lonely Place   tt0042593   Drama, Film-Noir, Mystery   \n",
       "2                      Sunset Blvd.   tt0043014            Drama, Film-Noir   \n",
       "3                        Cinderella   tt0042332  Animation, Family, Fantasy   \n",
       "4                     All About Eve   tt0042192                       Drama   \n",
       "...                             ...         ...                         ...   \n",
       "53602                    Sang froid  tt11895902                       Drama   \n",
       "53603       Bitterzoet Concert Film  tt12626546                       Music   \n",
       "53604  Kiwewe Nyeusi (Black Trauma)  tt12798962                       Drama   \n",
       "53605            Who Laughs in Hell  tt12007548     Comedy, Drama, Thriller   \n",
       "53606                    Gully Gang  tt13369990                      Comedy   \n",
       "\n",
       "            release_date                                               plot  \\\n",
       "0         31 August 1950  As a favor to her actress sister Abigail, New ...   \n",
       "1            17 May 1950  Dixon Steele is a Hollywood screenwriter who h...   \n",
       "2         10 August 1950  Joe Gillis is a struggling hack B-movie Hollyw...   \n",
       "3       15 February 1950  In a far away, long ago kingdom, Cinderella is...   \n",
       "4        13 October 1950  Stage star Margo Channing is friend to playwri...   \n",
       "...                  ...                                                ...   \n",
       "53602  11 September 2020  Claire is a lawyer. Obsessed with her work, sh...   \n",
       "53603        3 July 2020  In January 2020, Eefje released her fourth alb...   \n",
       "53604        6 July 2020  Kiwewe Nyeusi is Swahili for the words Black T...   \n",
       "53605      25 March 2020  King (Liam Bilsky) is an extremely hostile, mo...   \n",
       "53606     9 October 2020  A man named Malli, who was already in love wit...   \n",
       "\n",
       "       year_of_release  \n",
       "0                 1950  \n",
       "1                 1950  \n",
       "2                 1950  \n",
       "3                 1950  \n",
       "4                 1950  \n",
       "...                ...  \n",
       "53602             2020  \n",
       "53603             2020  \n",
       "53604             2020  \n",
       "53605             2020  \n",
       "53606             2020  \n",
       "\n",
       "[53607 rows x 6 columns]"
      ]
     },
     "execution_count": 94,
     "metadata": {},
     "output_type": "execute_result"
    }
   ],
   "source": [
    "plot_df"
   ]
  },
  {
   "cell_type": "markdown",
   "metadata": {},
   "source": [
    "### Topic Modeling"
   ]
  },
  {
   "cell_type": "code",
   "execution_count": 5,
   "metadata": {},
   "outputs": [],
   "source": [
    "stopwords = nltk.corpus.stopwords.words('english')\n",
    "newStopWords = ['want','ha','ca','ago','know','may','would','go'\\\n",
    "               ,'wa','also','old','year','two','one',\\\n",
    "               'film', 'movie', 'feature', 'director', 'short', 'filmmaker', 'character', 'star', 'comedy', 'based',\\\n",
    "                'story', 'based', 'tells', 'true', 'directed','find','way','must','meet',\\\n",
    "               'de', 'la', 'un', 'su', 'en', 'el', 'que', 'una', 'se', 'le','three',\n",
    "               'time', 'day', 'take', 'people', 'make', 'first', 'come', 'work', 'place', 'night',\\\n",
    "               'yearold','dy','little','named','back','doe','tell','get','hi','thi','becomes']\n",
    "stopwords.extend(newStopWords)\n",
    "stop_words = set(stopwords) "
   ]
  },
  {
   "cell_type": "code",
   "execution_count": 6,
   "metadata": {},
   "outputs": [],
   "source": [
    "\n",
    "# res = corpus[84].replace(key, cities[key])\n",
    "# cities =  {\"New York\":\"New_York\",\n",
    "#             'Los Angeles':'Los_Angeles',\n",
    "#             'Hong Kong':'Hong_Kong',\n",
    "#             'San Fransisco':'San_Fransisco',\n",
    "#             'New Dehli':'New_Dehli'}\n",
    "# for city, city_val in cities.items():\n",
    "#     res = corpus[84].replace(city,city_val)\n",
    "    \n",
    "# for key in cities.keys():\n",
    "#     if key in corpus[84]:\n",
    "#         res = corpus[84].replace(key, cities[key])\n",
    "# res"
   ]
  },
  {
   "cell_type": "code",
   "execution_count": 7,
   "metadata": {},
   "outputs": [],
   "source": [
    "from sklearn.feature_extraction.text import CountVectorizer\n",
    "import pickle\n",
    "from nltk.stem import WordNetLemmatizer \n",
    "from nltk.tokenize import TreebankWordTokenizer\n",
    "from autocorrect import Speller\n",
    "\n",
    "class NLPPipe:\n",
    "   \n",
    "    def __init__(self, vectorizer=CountVectorizer(), tokenizer=None, cleaning_function=None, \n",
    "                 lemmatizer=None,model=None):\n",
    "        if not tokenizer:\n",
    "            tokenizer = self.splitter\n",
    "        if not cleaning_function:\n",
    "            cleaning_function = self.clean_text\n",
    "        self.lemmatizer = lemmatizer\n",
    "        self.tokenizer = tokenizer\n",
    "        self.model = model\n",
    "        self.cleaning_function = cleaning_function\n",
    "        self.vectorizer = vectorizer\n",
    "        self._is_fit = False\n",
    "        \n",
    "    def splitter(self, text):\n",
    "        return text.split(' ')\n",
    "        \n",
    "    \n",
    "    def fit_transform(self, text):\n",
    "        clean_text = self.cleaning_function(text, self.tokenizer, self.lemmatizer)\n",
    "        return self.vectorizer.fit_transform(clean_text)"
   ]
  },
  {
   "cell_type": "code",
   "execution_count": 8,
   "metadata": {},
   "outputs": [],
   "source": [
    "corpus = plot_df['plot']"
   ]
  },
  {
   "cell_type": "code",
   "execution_count": 9,
   "metadata": {},
   "outputs": [],
   "source": [
    "def clean_text(text, tokenizer, lemmatizer):\n",
    "    ''' \n",
    "    Clean the text with tokenization and lemmatization\n",
    "    Map popular two name cities into one name with an underscore\n",
    "    '''\n",
    "    cities =  {\"New York\":\"New_York\",\n",
    "    'Los Angeles':'Los_Angeles',\n",
    "    'Hong Kong':'Hong_Kong',\n",
    "    'San Fransisco':'San_Fransisco',\n",
    "    'New Delhi':'New_Delhi',\n",
    "    'Sao Paulo':'Sao_Paulo',\n",
    "     'Mexico City':'Mexico_City'}\n",
    "    text=text.str.replace(r'\\d+','')\n",
    "    text=text.replace(r'[^A-Za-z0-9 ]+', '', regex=True)\n",
    "    cleaned_text = []\n",
    "    for post in text:\n",
    "        for key in cities.keys():\n",
    "            if key in post:\n",
    "                post = post.replace(key, cities[key])\n",
    "        post = post.replace('World War II','WWII')\n",
    "        cleaned_words = []\n",
    "        for word in tokenizer(post):\n",
    "            low_word = word.lower()\n",
    "            if lemmatizer:\n",
    "                low_word = lemmatizer.lemmatize(low_word)\n",
    "            cleaned_words.append(low_word)\n",
    "        cleaned_text.append(' '.join(cleaned_words))\n",
    "    return cleaned_text"
   ]
  },
  {
   "cell_type": "markdown",
   "metadata": {},
   "source": [
    "### NMF with count vectorizer"
   ]
  },
  {
   "cell_type": "code",
   "execution_count": 10,
   "metadata": {},
   "outputs": [],
   "source": [
    "nlp = NLPPipe(vectorizer=CountVectorizer(stop_words = stop_words,max_df=0.7,ngram_range=(1,2)), \n",
    "              cleaning_function=clean_text, \n",
    "              tokenizer=TreebankWordTokenizer().tokenize,\n",
    "              lemmatizer = WordNetLemmatizer())\n",
    "\n",
    "count_result = nlp.fit_transform(corpus)"
   ]
  },
  {
   "cell_type": "code",
   "execution_count": 11,
   "metadata": {},
   "outputs": [],
   "source": [
    "from sklearn.decomposition import NMF\n",
    "nmf_model = NMF(10)\n",
    "doc_topic = nmf_model.fit_transform(count_result)"
   ]
  },
  {
   "cell_type": "code",
   "execution_count": 12,
   "metadata": {},
   "outputs": [],
   "source": [
    "def display_topics(model, feature_names, no_top_words, topic_names=None):\n",
    "    for ix, topic in enumerate(model.components_):\n",
    "        if not topic_names or not topic_names[ix]:\n",
    "            print(\"\\nTopic \", ix)\n",
    "        else:\n",
    "            print(\"\\nTopic: '\",topic_names[ix],\"'\")\n",
    "        print(\", \".join([feature_names[i]\n",
    "                        for i in topic.argsort()[:-no_top_words - 1:-1]]))"
   ]
  },
  {
   "cell_type": "code",
   "execution_count": 13,
   "metadata": {},
   "outputs": [
    {
     "name": "stdout",
     "output_type": "stream",
     "text": [
      "\n",
      "Topic  0\n",
      "new, wife, world, police, money, war, help, town, end, however\n",
      "\n",
      "Topic  1\n",
      "life, change, world, new, relationship, living, live, dream, like, past\n",
      "\n",
      "Topic  2\n",
      "love, fall, fall love, girl, marriage, married, relationship, marry, beautiful, daughter\n",
      "\n",
      "Topic  3\n",
      "family, daughter, brother, home, child, wife, son, house, parent, sister\n",
      "\n",
      "Topic  4\n",
      "young, woman, young woman, young man, husband, girl, men, village, beautiful, relationship\n",
      "\n",
      "Topic  5\n",
      "kkk, court, nahata, case, print, prosecution, gandhi, supreme, supreme court, sanjay\n",
      "\n",
      "Topic  6\n",
      "father, mother, son, daughter, child, home, brother, sister, house, death\n",
      "\n",
      "Topic  7\n",
      "school, girl, boy, student, high, high school, teacher, parent, class, new\n",
      "\n",
      "Topic  8\n",
      "man, young man, young, wife, another, kill, see, rich, men, black\n",
      "\n",
      "Topic  9\n",
      "friend, best, best friend, help, friendship, together, childhood, girlfriend, become, party\n"
     ]
    }
   ],
   "source": [
    "display_topics(nmf_model, nlp.vectorizer.get_feature_names(), 10)"
   ]
  },
  {
   "cell_type": "markdown",
   "metadata": {},
   "source": [
    "### Topics are interesting but I feel they could tell me more \n",
    "* Trying NMF with a min_df of 1% and 15 words for each topic"
   ]
  },
  {
   "cell_type": "code",
   "execution_count": 14,
   "metadata": {},
   "outputs": [],
   "source": [
    "nlp = NLPPipe(vectorizer=CountVectorizer(stop_words = stop_words,min_df=0.01,ngram_range=(1,2)), \n",
    "              cleaning_function=clean_text, \n",
    "              tokenizer=TreebankWordTokenizer().tokenize,\n",
    "              lemmatizer = WordNetLemmatizer())\n",
    "\n",
    "count_result = nlp.fit_transform(corpus)"
   ]
  },
  {
   "cell_type": "code",
   "execution_count": 15,
   "metadata": {},
   "outputs": [
    {
     "data": {
      "text/plain": [
       "(53607, 641)"
      ]
     },
     "execution_count": 15,
     "metadata": {},
     "output_type": "execute_result"
    }
   ],
   "source": [
    "count_result.shape"
   ]
  },
  {
   "cell_type": "code",
   "execution_count": 16,
   "metadata": {},
   "outputs": [],
   "source": [
    "from sklearn.decomposition import NMF\n",
    "nmf_model = NMF(10)\n",
    "doc_topic = nmf_model.fit_transform(count_result)"
   ]
  },
  {
   "cell_type": "code",
   "execution_count": 17,
   "metadata": {},
   "outputs": [
    {
     "name": "stdout",
     "output_type": "stream",
     "text": [
      "\n",
      "Topic  0\n",
      "new, world, police, wife, town, money, help, however, end, war, try, house, home, job, even\n",
      "\n",
      "Topic  1\n",
      "life, change, relationship, world, living, new, live, dream, like, past, different, job, lead, end, around\n",
      "\n",
      "Topic  2\n",
      "love, fall, fall love, girl, marriage, relationship, married, marry, beautiful, daughter, end, heart, together, lover, affair\n",
      "\n",
      "Topic  3\n",
      "family, daughter, brother, home, son, wife, child, house, sister, parent, married, member, marriage, husband, return\n",
      "\n",
      "Topic  4\n",
      "friend, school, best, best friend, girl, high, student, high school, boy, friendship, help, together, college, childhood, become\n",
      "\n",
      "Topic  5\n",
      "father, son, daughter, village, death, boy, brother, return, home, wife, house, sister, marry, away, relationship\n",
      "\n",
      "Topic  6\n",
      "young, girl, boy, young man, young woman, young girl, village, world, dream, city, set, town, couple, beautiful, small\n",
      "\n",
      "Topic  7\n",
      "man, young man, wife, another, kill, see, men, dead, black, daughter, killed, rich, murder, past, job\n",
      "\n",
      "Topic  8\n",
      "woman, husband, young woman, wife, men, relationship, married, daughter, child, beautiful, another, marriage, house, lover, affair\n",
      "\n",
      "Topic  9\n",
      "mother, child, home, daughter, school, boy, sister, girl, brother, parent, house, care, husband, away, baby\n"
     ]
    }
   ],
   "source": [
    "display_topics(nmf_model, nlp.vectorizer.get_feature_names(), 15)"
   ]
  },
  {
   "cell_type": "markdown",
   "metadata": {},
   "source": [
    "## TFIDF\n",
    "* The topics are pretty good but very similar want to see if using TFIDF gives any clarity\n",
    "* Also switched from a min_df of 1% to a max_df of 50%"
   ]
  },
  {
   "cell_type": "code",
   "execution_count": 18,
   "metadata": {},
   "outputs": [],
   "source": [
    "from sklearn.feature_extraction.text import TfidfVectorizer\n",
    "\n",
    "class NLPPipe:\n",
    "   \n",
    "    def __init__(self, vectorizer= TfidfVectorizer(), tokenizer=None, cleaning_function=None, \n",
    "                 lemmatizer=None,model=None):\n",
    "        if not tokenizer:\n",
    "            tokenizer = self.splitter\n",
    "        if not cleaning_function:\n",
    "            cleaning_function = self.clean_text\n",
    "        self.lemmatizer = lemmatizer\n",
    "        self.tokenizer = tokenizer\n",
    "        self.model = model\n",
    "        self.cleaning_function = cleaning_function\n",
    "        self.vectorizer = vectorizer\n",
    "        self._is_fit = False\n",
    "        \n",
    "    def splitter(self, text):\n",
    "        return text.split(' ')\n",
    "        \n",
    " \n",
    "    \n",
    "    def fit_transform(self, text):\n",
    "        clean_text = self.cleaning_function(text, self.tokenizer, self.lemmatizer)\n",
    "        return self.vectorizer.fit_transform(clean_text)"
   ]
  },
  {
   "cell_type": "code",
   "execution_count": 19,
   "metadata": {},
   "outputs": [],
   "source": [
    "nlp = NLPPipe(vectorizer=TfidfVectorizer(stop_words = stop_words,max_df=0.5,ngram_range=(1,2)), \n",
    "              cleaning_function=clean_text, \n",
    "              tokenizer=TreebankWordTokenizer().tokenize,\n",
    "              lemmatizer = WordNetLemmatizer())\n",
    "\n",
    "tf_result = nlp.fit_transform(corpus)"
   ]
  },
  {
   "cell_type": "code",
   "execution_count": 20,
   "metadata": {},
   "outputs": [],
   "source": [
    "nmf_model = NMF(10)\n",
    "doc_topic = nmf_model.fit_transform(tf_result)"
   ]
  },
  {
   "cell_type": "code",
   "execution_count": 21,
   "metadata": {},
   "outputs": [
    {
     "name": "stdout",
     "output_type": "stream",
     "text": [
      "\n",
      "Topic  0\n",
      "friend, new, police, money, town, wife, try, help, job, start, house, murder, best, thing, plan\n",
      "\n",
      "Topic  1\n",
      "man, young, wife, past, another, mysterious, rich, revenge, dream, memory, struggle, journey, prison, decides, killed\n",
      "\n",
      "Topic  2\n",
      "father, mother, son, child, daughter, brother, death, sister, home, return, wife, boy, care, husband, away\n",
      "\n",
      "Topic  3\n",
      "love, fall, relationship, marriage, married, couple, romantic, beautiful, marry, lover, heart, daughter, affair, triangle, end\n",
      "\n",
      "Topic  4\n",
      "life, change, different, world, new, dream, forever, living, live, struggle, journey, event, around, reality, past\n",
      "\n",
      "Topic  5\n",
      "girl, boy, young, teenage, parent, dream, guy, rich, summer, fall, village, friend, poor, adventure, friendship\n",
      "\n",
      "Topic  6\n",
      "woman, young, husband, men, relationship, married, beautiful, lover, child, different, affair, marriage, try, boyfriend, mysterious\n",
      "\n",
      "Topic  7\n",
      "war, world, village, soldier, german, army, group, set, fight, small, wwii, country, battle, men, japanese\n",
      "\n",
      "Topic  8\n",
      "family, member, home, brother, struggle, parent, daughter, child, house, together, return, secret, live, sister, business\n",
      "\n",
      "Topic  9\n",
      "school, student, high, teacher, class, friend, college, group, university, new, classmate, kid, parent, senior, team\n"
     ]
    }
   ],
   "source": [
    "display_topics(nmf_model, nlp.vectorizer.get_feature_names(), 15)"
   ]
  },
  {
   "cell_type": "markdown",
   "metadata": {},
   "source": [
    "### Tfidf vectorizer NMF with min_df of 0.01 and ngram_range of 2"
   ]
  },
  {
   "cell_type": "code",
   "execution_count": 25,
   "metadata": {},
   "outputs": [],
   "source": [
    "nlp = NLPPipe(vectorizer=TfidfVectorizer(stop_words = stop_words,min_df=0.01,ngram_range=(1,2)), \n",
    "              cleaning_function=clean_text, \n",
    "              tokenizer=TreebankWordTokenizer().tokenize,\n",
    "              lemmatizer = WordNetLemmatizer())\n",
    "\n",
    "tf_result = nlp.fit_transform(corpus)"
   ]
  },
  {
   "cell_type": "code",
   "execution_count": 26,
   "metadata": {},
   "outputs": [
    {
     "data": {
      "text/plain": [
       "(53607, 5765)"
      ]
     },
     "execution_count": 26,
     "metadata": {},
     "output_type": "execute_result"
    }
   ],
   "source": [
    "tf_result.shape"
   ]
  },
  {
   "cell_type": "code",
   "execution_count": 27,
   "metadata": {},
   "outputs": [],
   "source": [
    "nmf_model = NMF(10)\n",
    "doc_topic = nmf_model.fit_transform(tf_result)"
   ]
  },
  {
   "cell_type": "code",
   "execution_count": 28,
   "metadata": {},
   "outputs": [
    {
     "name": "stdout",
     "output_type": "stream",
     "text": [
      "\n",
      "Topic  0\n",
      "world, war, police, town, new, set, group, small, city, murder\n",
      "\n",
      "Topic  1\n",
      "love, fall, fall love, marriage, married, marry, relationship, beautiful, romantic, lover\n",
      "\n",
      "Topic  2\n",
      "man, young, young man, wife, man life, past, rich, dream, another man, mysterious\n",
      "\n",
      "Topic  3\n",
      "father, mother, son, child, daughter, home, wife, brother, sister, house\n",
      "\n",
      "Topic  4\n",
      "life, change, new, dream, different, change life, relationship, world, living, live\n",
      "\n",
      "Topic  5\n",
      "girl, boy, young, young girl, village, young boy, teenage, parent, dream, boy girl\n",
      "\n",
      "Topic  6\n",
      "woman, young woman, young, husband, men, relationship, married, beautiful, lover, beautiful woman\n",
      "\n",
      "Topic  7\n",
      "friend, best, best friend, friendship, childhood, together, childhood friend, four, help, girlfriend\n",
      "\n",
      "Topic  8\n",
      "family, brother, member, home, struggle, family member, house, parent, daughter, family life\n",
      "\n",
      "Topic  9\n",
      "school, student, high, high school, teacher, school student, class, college, school teacher, new\n"
     ]
    }
   ],
   "source": [
    "display_topics(nmf_model, nlp.vectorizer.get_feature_names(), 10)"
   ]
  },
  {
   "cell_type": "markdown",
   "metadata": {},
   "source": [
    "## NMF with min .01 and max 0.5"
   ]
  },
  {
   "cell_type": "code",
   "execution_count": 29,
   "metadata": {},
   "outputs": [],
   "source": [
    "nlp = NLPPipe(vectorizer=TfidfVectorizer(stop_words = stop_words,min_df=0.001,max_df=0.5,ngram_range=(1,2)), \n",
    "              cleaning_function=clean_text, \n",
    "              tokenizer=TreebankWordTokenizer().tokenize,\n",
    "              lemmatizer = WordNetLemmatizer())\n",
    "\n",
    "tf_result = nlp.fit_transform(corpus)"
   ]
  },
  {
   "cell_type": "code",
   "execution_count": 30,
   "metadata": {},
   "outputs": [],
   "source": [
    "nmf_model = NMF(5)\n",
    "doc_topic = nmf_model.fit_transform(tf_result)"
   ]
  },
  {
   "cell_type": "code",
   "execution_count": 31,
   "metadata": {},
   "outputs": [
    {
     "name": "stdout",
     "output_type": "stream",
     "text": [
      "\n",
      "Topic  0\n",
      "friend, school, world, new, town, war, group, police, help, set\n",
      "\n",
      "Topic  1\n",
      "love, fall, fall love, girl, marriage, married, marry, relationship, beautiful, friend\n",
      "\n",
      "Topic  2\n",
      "young, man, woman, young man, young woman, husband, young girl, men, girl, wife\n",
      "\n",
      "Topic  3\n",
      "family, father, mother, son, daughter, child, brother, home, wife, sister\n",
      "\n",
      "Topic  4\n",
      "life, change, new, different, relationship, change life, dream, world, living, live\n"
     ]
    }
   ],
   "source": [
    "display_topics(nmf_model, nlp.vectorizer.get_feature_names(), 10)"
   ]
  },
  {
   "cell_type": "markdown",
   "metadata": {},
   "source": [
    "## NMF with stemming instead of lemmitization"
   ]
  },
  {
   "cell_type": "code",
   "execution_count": 32,
   "metadata": {},
   "outputs": [],
   "source": [
    "newStemmedStopWords = ['want','ha','ca','ago','know','may','would','go'\\\n",
    "               ,'wa','also','old','year','two','one',\\\n",
    "               'film', 'movie', 'feature', 'director', 'short', 'filmmaker', 'character', 'star', 'comedy', 'based',\\\n",
    "                'story', 'based', 'tells', 'true', 'directed','find','way','must','meet',\\\n",
    "               'de', 'la', 'un', 'su', 'en', 'el', 'que', 'una', 'se', 'le','three',\n",
    "               'time', 'day', 'take', 'people', 'make', 'first', 'come', 'work', 'place', 'night',\\\n",
    "               'yearold','dy','little','named','back','doe','tell','get','hi','thi','stori', 'movi', 'base','charact',\\\n",
    "                'set','onli','dure','name','four','tri','th']\n",
    "stopwords.extend(newStemmedStopWords)\n",
    "stemmed_stop_words = set(stopwords) "
   ]
  },
  {
   "cell_type": "code",
   "execution_count": 33,
   "metadata": {},
   "outputs": [],
   "source": [
    "from sklearn.feature_extraction.text import CountVectorizer\n",
    "import pickle\n",
    "from nltk.stem import WordNetLemmatizer \n",
    "from nltk.tokenize import TreebankWordTokenizer\n",
    "from autocorrect import Speller\n",
    "from nltk.stem import PorterStemmer\n",
    "\n",
    "class NLPPipe:\n",
    "   \n",
    "    def __init__(self, vectorizer=CountVectorizer(), tokenizer=None, cleaning_function=None, \n",
    "                 stemmer=None,model=None):\n",
    "        if not tokenizer:\n",
    "            tokenizer = self.splitter\n",
    "        if not cleaning_function:\n",
    "            cleaning_function = self.clean_text\n",
    "        self.stemmer = stemmer\n",
    "        self.tokenizer = tokenizer\n",
    "        self.model = model\n",
    "        self.cleaning_function = cleaning_function\n",
    "        self.vectorizer = vectorizer\n",
    "        self._is_fit = False\n",
    "        \n",
    "    def splitter(self, text):\n",
    "        return text.split(' ')\n",
    "        \n",
    " \n",
    "    \n",
    "    def fit_transform(self, text):\n",
    "        clean_text = self.cleaning_function(text, self.tokenizer, self.stemmer)\n",
    "        return self.vectorizer.fit_transform(clean_text)"
   ]
  },
  {
   "cell_type": "code",
   "execution_count": 34,
   "metadata": {},
   "outputs": [],
   "source": [
    "def clean_text(text, tokenizer, stemmer):\n",
    "        cities =  {\"New York\":\"New_York\",\n",
    "        'Los Angeles':'Los_Angeles',\n",
    "        'Hong Kong':'Hong_Kong',\n",
    "        'San Fransisco':'San_Fransisco',\n",
    "        'New Delhi':'New_Delhi',\n",
    "        'Sao Paulo':'Sao_Paulo',\n",
    "         'Mexico City':'Mexico_City'}\n",
    "        text=text.str.replace(r'\\d+','')\n",
    "        text=text.replace(r'[^A-Za-z0-9 ]+', '', regex=True)\n",
    "        cleaned_text = []\n",
    "        for post in text:\n",
    "            for key in cities.keys():\n",
    "                if key in post:\n",
    "                    post = post.replace(key, cities[key])\n",
    "            post = post.replace('World War II','WWII')\n",
    "            cleaned_words = []\n",
    "            for word in tokenizer(post):\n",
    "                low_word = word.lower()\n",
    "                if stemmer:\n",
    "                    low_word = stemmer.stem(low_word)\n",
    "                    #low_word = speller(low_word)\n",
    "                cleaned_words.append(low_word)\n",
    "            cleaned_text.append(' '.join(cleaned_words))\n",
    "        return cleaned_text"
   ]
  },
  {
   "cell_type": "code",
   "execution_count": 35,
   "metadata": {},
   "outputs": [],
   "source": [
    "nlp = NLPPipe(vectorizer=TfidfVectorizer(stop_words = stemmed_stop_words,min_df=0.001,ngram_range=(1,2)), \n",
    "              cleaning_function=clean_text, \n",
    "              tokenizer=TreebankWordTokenizer().tokenize,\n",
    "              stemmer = PorterStemmer())\n",
    "\n",
    "tf_result = nlp.fit_transform(corpus)"
   ]
  },
  {
   "cell_type": "code",
   "execution_count": 36,
   "metadata": {},
   "outputs": [],
   "source": [
    "nmf_model = NMF(10)\n",
    "doc_topic = nmf_model.fit_transform(tf_result)"
   ]
  },
  {
   "cell_type": "code",
   "execution_count": 37,
   "metadata": {
    "scrolled": true
   },
   "outputs": [
    {
     "name": "stdout",
     "output_type": "stream",
     "text": [
      "\n",
      "Topic  0\n",
      "murder, polic, kill, war, prison, world, forc, group, investig, offic\n",
      "\n",
      "Topic  1\n",
      "love, fall, fall love, marri, marriag, beauti, relationship, lover, romant, coupl\n",
      "\n",
      "Topic  2\n",
      "father, mother, son, daughter, marri, wife, home, live, brother, husband\n",
      "\n",
      "Topic  3\n",
      "man, young, woman, young man, young woman, becom, past, mysteri, husband, wife\n",
      "\n",
      "Topic  4\n",
      "life, live, chang, world, new, dream, struggl, differ, peopl, relationship\n",
      "\n",
      "Topic  5\n",
      "girl, boy, young girl, young, littl, young boy, teenag, littl girl, parent, dream\n",
      "\n",
      "Topic  6\n",
      "villag, small, town, small villag, local, citi, live, return, mountain, peopl\n",
      "\n",
      "Topic  7\n",
      "famili, brother, member, struggl, home, famili member, children, famili live, parent, face\n",
      "\n",
      "Topic  8\n",
      "friend, best, best friend, friendship, childhood, togeth, decid, childhood friend, help, trip\n",
      "\n",
      "Topic  9\n",
      "school, student, high, high school, teacher, school student, class, graduat, colleg, school teacher\n"
     ]
    }
   ],
   "source": [
    "display_topics(nmf_model, nlp.vectorizer.get_feature_names(), 10)"
   ]
  },
  {
   "cell_type": "markdown",
   "metadata": {},
   "source": [
    "## LDA\n",
    "* NMF gave pretty good topics but want to see if LDA with stemming instead of lemmitization brought any new insights to the topics"
   ]
  },
  {
   "cell_type": "code",
   "execution_count": 44,
   "metadata": {},
   "outputs": [],
   "source": [
    "nlp = NLPPipe(vectorizer=TfidfVectorizer(stop_words = stemmed_stop_words,ngram_range=(1,2)), \n",
    "              cleaning_function=clean_text, \n",
    "              tokenizer=TreebankWordTokenizer().tokenize,\n",
    "              stemmer = PorterStemmer())\n",
    "\n",
    "tf_result = nlp.fit_transform(corpus)"
   ]
  },
  {
   "cell_type": "code",
   "execution_count": 45,
   "metadata": {},
   "outputs": [
    {
     "name": "stdout",
     "output_type": "stream",
     "text": [
      "\n",
      "Topic  0\n",
      "life, love, young, man, famili, live, friend, father, girl, becom\n",
      "\n",
      "Topic  1\n",
      "life, young, love, man, live, famili, friend, father, woman, girl\n",
      "\n",
      "Topic  2\n",
      "life, love, young, man, live, friend, famili, father, girl, becom\n",
      "\n",
      "Topic  3\n",
      "life, young, love, live, famili, man, friend, girl, father, becom\n",
      "\n",
      "Topic  4\n",
      "life, love, young, live, man, famili, friend, girl, woman, father\n",
      "\n",
      "Topic  5\n",
      "life, love, live, famili, young, man, friend, girl, father, becom\n",
      "\n",
      "Topic  6\n",
      "life, love, live, young, man, famili, friend, father, becom, woman\n",
      "\n",
      "Topic  7\n",
      "life, love, famili, young, live, man, friend, father, woman, becom\n",
      "\n",
      "Topic  8\n",
      "life, love, live, famili, man, young, friend, father, girl, mother\n",
      "\n",
      "Topic  9\n",
      "life, love, live, man, young, friend, famili, father, woman, mother\n"
     ]
    }
   ],
   "source": [
    "from sklearn.decomposition import LatentDirichletAllocation\n",
    "lda_tf = LatentDirichletAllocation(n_components=10, random_state=0)\n",
    "lda_tf.fit(tf_result)\n",
    "display_topics(lda_tf, nlp.vectorizer.get_feature_names(), 10)"
   ]
  },
  {
   "cell_type": "markdown",
   "metadata": {},
   "source": [
    "### All of the topics are the same lets add a max_df"
   ]
  },
  {
   "cell_type": "code",
   "execution_count": 46,
   "metadata": {},
   "outputs": [],
   "source": [
    "nlp = NLPPipe(vectorizer=TfidfVectorizer(stop_words = stemmed_stop_words,max_df=0.5,ngram_range=(1,2)), \n",
    "              cleaning_function=clean_text, \n",
    "              tokenizer=TreebankWordTokenizer().tokenize,\n",
    "              stemmer = PorterStemmer())\n",
    "\n",
    "tf_result = nlp.fit_transform(corpus)"
   ]
  },
  {
   "cell_type": "code",
   "execution_count": 47,
   "metadata": {},
   "outputs": [
    {
     "name": "stdout",
     "output_type": "stream",
     "text": [
      "\n",
      "Topic  0\n",
      "life, love, young, man, famili, live, friend, father, girl, becom\n",
      "\n",
      "Topic  1\n",
      "life, young, love, man, live, famili, friend, father, woman, girl\n",
      "\n",
      "Topic  2\n",
      "life, love, young, man, live, friend, famili, father, girl, becom\n",
      "\n",
      "Topic  3\n",
      "life, young, love, live, famili, man, friend, girl, father, becom\n",
      "\n",
      "Topic  4\n",
      "life, love, young, live, man, famili, friend, girl, woman, father\n",
      "\n",
      "Topic  5\n",
      "life, love, live, famili, young, man, friend, girl, father, becom\n",
      "\n",
      "Topic  6\n",
      "life, love, live, young, man, famili, friend, father, becom, woman\n",
      "\n",
      "Topic  7\n",
      "life, love, famili, young, live, man, friend, father, woman, becom\n",
      "\n",
      "Topic  8\n",
      "life, love, live, famili, man, young, friend, father, girl, mother\n",
      "\n",
      "Topic  9\n",
      "life, love, live, man, young, friend, famili, father, woman, mother\n"
     ]
    }
   ],
   "source": [
    "lda_tf = LatentDirichletAllocation(n_components=10, random_state=0)\n",
    "lda_tf.fit(tf_result)\n",
    "display_topics(lda_tf, nlp.vectorizer.get_feature_names(), 10)"
   ]
  },
  {
   "cell_type": "markdown",
   "metadata": {},
   "source": [
    "#### Still more of the same. Will add a min df"
   ]
  },
  {
   "cell_type": "code",
   "execution_count": 48,
   "metadata": {},
   "outputs": [],
   "source": [
    "nlp = NLPPipe(vectorizer=TfidfVectorizer(stop_words = stemmed_stop_words,min_df=0.01,ngram_range=(1,2)), \n",
    "              cleaning_function=clean_text, \n",
    "              tokenizer=TreebankWordTokenizer().tokenize,\n",
    "              stemmer = PorterStemmer())\n",
    "\n",
    "tf_result = nlp.fit_transform(corpus)"
   ]
  },
  {
   "cell_type": "code",
   "execution_count": 49,
   "metadata": {},
   "outputs": [
    {
     "name": "stdout",
     "output_type": "stream",
     "text": [
      "\n",
      "Topic  0\n",
      "mother, father, son, child, famili, live, children, wife, life, daughter\n",
      "\n",
      "Topic  1\n",
      "life, world, love, live, past, man, dream, young, chang, journey\n",
      "\n",
      "Topic  2\n",
      "love, fall, marri, fall love, girl, young, man, famili, daughter, marriag\n",
      "\n",
      "Topic  3\n",
      "brother, famili, young, woman, father, villag, man, fight, sister, love\n",
      "\n",
      "Topic  4\n",
      "murder, polic, kill, investig, gang, crime, prison, killer, case, crimin\n",
      "\n",
      "Topic  5\n",
      "friend, town, small, best, boy, best friend, summer, life, love, friendship\n",
      "\n",
      "Topic  6\n",
      "school, music, student, play, high, high school, life, actor, perform, band\n",
      "\n",
      "Topic  7\n",
      "war, armi, soldier, german, world, group, king, american, militari, battl\n",
      "\n",
      "Topic  8\n",
      "life, live, famili, differ, peopl, social, love, relationship, like, friend\n",
      "\n",
      "Topic  9\n",
      "comedi, friend, life, love, man, guy, car, live, hotel, parti\n"
     ]
    }
   ],
   "source": [
    "lda_tf = LatentDirichletAllocation(n_components=10, random_state=0)\n",
    "doc_topic=lda_tf.fit(tf_result)\n",
    "display_topics(lda_tf, nlp.vectorizer.get_feature_names(), 10)"
   ]
  },
  {
   "cell_type": "markdown",
   "metadata": {},
   "source": [
    "## Start some initial plotting based on lda topics"
   ]
  },
  {
   "cell_type": "code",
   "execution_count": 92,
   "metadata": {},
   "outputs": [
    {
     "name": "stdout",
     "output_type": "stream",
     "text": [
      "\n",
      "\n",
      "\n",
      "\n",
      "\n",
      "\n",
      "\n",
      "\n",
      "\n",
      "\n"
     ]
    },
    {
     "data": {
      "image/png": "[encoded data removed]",
      "text/plain": [
       "<Figure size 432x288 with 1 Axes>"
      ]
     },
     "metadata": {
      "needs_background": "light"
     },
     "output_type": "display_data"
    }
   ],
   "source": [
    "from matplotlib import pyplot as plt\n",
    "from wordcloud import WordCloud, STOPWORDS\n",
    "import matplotlib.colors as mcolors\n",
    "terms_count = 10\n",
    "terms = nlp.vectorizer.get_feature_names()\n",
    "#Looping over lda components to get topics and their related terms with high probabilities\n",
    "for idx,topic in enumerate(lda_tf.components_):    \n",
    "    #print('Topic# ',idx+1)\n",
    "    abs_topic = abs(topic)\n",
    "    topic_terms = [[terms[i],topic[i]] for i in abs_topic.argsort()[:-terms_count-1:-1]]\n",
    "    topic_terms_sorted = [[terms[i], topic[i]] for i in abs_topic.argsort()[:-terms_count - 1:-1]]\n",
    "    topic_words = []\n",
    "#     for i in range(terms_count):\n",
    "#         topic_words.append(topic_terms_sorted[i][0])\n",
    "    #print(','.join( word for word in topic_words))\n",
    "    print(\"\")\n",
    "    dict_word_frequency = {}\n",
    "    for i in range(terms_count):\n",
    "        dict_word_frequency[topic_terms_sorted[i][0]] = topic_terms_sorted[i][1]    \n",
    "        wcloud = WordCloud(background_color=\"white\",mask=None, max_words=100,\\\n",
    "                            max_font_size=60,min_font_size=10,prefer_horizontal=0.9,\n",
    "                            contour_width=3,contour_color='black')\n",
    "        wcloud.generate_from_frequencies(dict_word_frequency)       \n",
    "        plt.imshow(wcloud, interpolation='bilinear')\n",
    "        plt.axis(\"off\")\n",
    "        plt.savefig(\"Topic#\"+str(idx+1)+\".png\")"
   ]
  },
  {
   "cell_type": "code",
   "execution_count": 60,
   "metadata": {},
   "outputs": [],
   "source": [
    "ex_label = [c[:30]+\"...\" for c in corpus]"
   ]
  },
  {
   "cell_type": "code",
   "execution_count": 61,
   "metadata": {},
   "outputs": [
    {
     "data": {
      "text/plain": [
       "array([[0.01913614, 0.01913487, 0.2704932 , ..., 0.01913744, 0.01913801,\n",
       "        0.01913673],\n",
       "       [0.01193217, 0.01193397, 0.01193235, ..., 0.01193454, 0.6570872 ,\n",
       "        0.01193359],\n",
       "       [0.01387621, 0.01387752, 0.01387672, ..., 0.01387563, 0.87511061,\n",
       "        0.01387721],\n",
       "       ...,\n",
       "       [0.03044918, 0.03044668, 0.03044346, ..., 0.03045086, 0.72596932,\n",
       "        0.03045265],\n",
       "       [0.02416463, 0.02415917, 0.02415336, ..., 0.78256129, 0.02416068,\n",
       "        0.02415526],\n",
       "       [0.01679863, 0.01679891, 0.84880897, ..., 0.01679758, 0.01679923,\n",
       "        0.0167997 ]])"
      ]
     },
     "execution_count": 61,
     "metadata": {},
     "output_type": "execute_result"
    }
   ],
   "source": [
    "topic_values = lda_tf.transform(tf_result)\n",
    "topic_values"
   ]
  },
  {
   "cell_type": "code",
   "execution_count": 62,
   "metadata": {},
   "outputs": [
    {
     "data": {
      "text/html": [
       "<div>\n",
       "<style scoped>\n",
       "    .dataframe tbody tr th:only-of-type {\n",
       "        vertical-align: middle;\n",
       "    }\n",
       "\n",
       "    .dataframe tbody tr th {\n",
       "        vertical-align: top;\n",
       "    }\n",
       "\n",
       "    .dataframe thead th {\n",
       "        text-align: right;\n",
       "    }\n",
       "</style>\n",
       "<table border=\"1\" class=\"dataframe\">\n",
       "  <thead>\n",
       "    <tr style=\"text-align: right;\">\n",
       "      <th></th>\n",
       "      <th>topic_1</th>\n",
       "      <th>topic_2</th>\n",
       "      <th>topic_3</th>\n",
       "      <th>topic_4</th>\n",
       "      <th>topic_5</th>\n",
       "      <th>topic_6</th>\n",
       "      <th>topic_7</th>\n",
       "      <th>topic_8</th>\n",
       "      <th>topic_9</th>\n",
       "      <th>topic_10</th>\n",
       "    </tr>\n",
       "    <tr>\n",
       "      <th>title</th>\n",
       "      <th></th>\n",
       "      <th></th>\n",
       "      <th></th>\n",
       "      <th></th>\n",
       "      <th></th>\n",
       "      <th></th>\n",
       "      <th></th>\n",
       "      <th></th>\n",
       "      <th></th>\n",
       "      <th></th>\n",
       "    </tr>\n",
       "  </thead>\n",
       "  <tbody>\n",
       "    <tr>\n",
       "      <th>Summer Stock</th>\n",
       "      <td>0.01914</td>\n",
       "      <td>0.01913</td>\n",
       "      <td>0.27049</td>\n",
       "      <td>0.01914</td>\n",
       "      <td>0.01914</td>\n",
       "      <td>0.01914</td>\n",
       "      <td>0.57641</td>\n",
       "      <td>0.01914</td>\n",
       "      <td>0.01914</td>\n",
       "      <td>0.01914</td>\n",
       "    </tr>\n",
       "    <tr>\n",
       "      <th>In a Lonely Place</th>\n",
       "      <td>0.01193</td>\n",
       "      <td>0.01193</td>\n",
       "      <td>0.01193</td>\n",
       "      <td>0.01193</td>\n",
       "      <td>0.24744</td>\n",
       "      <td>0.01193</td>\n",
       "      <td>0.01193</td>\n",
       "      <td>0.01193</td>\n",
       "      <td>0.65709</td>\n",
       "      <td>0.01193</td>\n",
       "    </tr>\n",
       "    <tr>\n",
       "      <th>Sunset Blvd.</th>\n",
       "      <td>0.01388</td>\n",
       "      <td>0.01388</td>\n",
       "      <td>0.01388</td>\n",
       "      <td>0.01387</td>\n",
       "      <td>0.01388</td>\n",
       "      <td>0.01388</td>\n",
       "      <td>0.01388</td>\n",
       "      <td>0.01388</td>\n",
       "      <td>0.87511</td>\n",
       "      <td>0.01388</td>\n",
       "    </tr>\n",
       "    <tr>\n",
       "      <th>Cinderella</th>\n",
       "      <td>0.55141</td>\n",
       "      <td>0.01468</td>\n",
       "      <td>0.01468</td>\n",
       "      <td>0.01469</td>\n",
       "      <td>0.01468</td>\n",
       "      <td>0.01468</td>\n",
       "      <td>0.01468</td>\n",
       "      <td>0.33112</td>\n",
       "      <td>0.01468</td>\n",
       "      <td>0.01468</td>\n",
       "    </tr>\n",
       "    <tr>\n",
       "      <th>All About Eve</th>\n",
       "      <td>0.01723</td>\n",
       "      <td>0.01723</td>\n",
       "      <td>0.44256</td>\n",
       "      <td>0.01723</td>\n",
       "      <td>0.01723</td>\n",
       "      <td>0.01723</td>\n",
       "      <td>0.41959</td>\n",
       "      <td>0.01723</td>\n",
       "      <td>0.01723</td>\n",
       "      <td>0.01723</td>\n",
       "    </tr>\n",
       "    <tr>\n",
       "      <th>...</th>\n",
       "      <td>...</td>\n",
       "      <td>...</td>\n",
       "      <td>...</td>\n",
       "      <td>...</td>\n",
       "      <td>...</td>\n",
       "      <td>...</td>\n",
       "      <td>...</td>\n",
       "      <td>...</td>\n",
       "      <td>...</td>\n",
       "      <td>...</td>\n",
       "    </tr>\n",
       "    <tr>\n",
       "      <th>Sang froid</th>\n",
       "      <td>0.75120</td>\n",
       "      <td>0.02764</td>\n",
       "      <td>0.02765</td>\n",
       "      <td>0.02764</td>\n",
       "      <td>0.02766</td>\n",
       "      <td>0.02764</td>\n",
       "      <td>0.02764</td>\n",
       "      <td>0.02764</td>\n",
       "      <td>0.02764</td>\n",
       "      <td>0.02765</td>\n",
       "    </tr>\n",
       "    <tr>\n",
       "      <th>Bitterzoet Concert Film</th>\n",
       "      <td>0.01553</td>\n",
       "      <td>0.01553</td>\n",
       "      <td>0.01553</td>\n",
       "      <td>0.01553</td>\n",
       "      <td>0.01553</td>\n",
       "      <td>0.01553</td>\n",
       "      <td>0.86022</td>\n",
       "      <td>0.01553</td>\n",
       "      <td>0.01553</td>\n",
       "      <td>0.01553</td>\n",
       "    </tr>\n",
       "    <tr>\n",
       "      <th>Kiwewe Nyeusi (Black Trauma)</th>\n",
       "      <td>0.03045</td>\n",
       "      <td>0.03045</td>\n",
       "      <td>0.03044</td>\n",
       "      <td>0.03045</td>\n",
       "      <td>0.03045</td>\n",
       "      <td>0.03044</td>\n",
       "      <td>0.03045</td>\n",
       "      <td>0.03045</td>\n",
       "      <td>0.72597</td>\n",
       "      <td>0.03045</td>\n",
       "    </tr>\n",
       "    <tr>\n",
       "      <th>Who Laughs in Hell</th>\n",
       "      <td>0.02416</td>\n",
       "      <td>0.02416</td>\n",
       "      <td>0.02415</td>\n",
       "      <td>0.02417</td>\n",
       "      <td>0.02416</td>\n",
       "      <td>0.02416</td>\n",
       "      <td>0.02416</td>\n",
       "      <td>0.78256</td>\n",
       "      <td>0.02416</td>\n",
       "      <td>0.02416</td>\n",
       "    </tr>\n",
       "    <tr>\n",
       "      <th>Gully Gang</th>\n",
       "      <td>0.01680</td>\n",
       "      <td>0.01680</td>\n",
       "      <td>0.84881</td>\n",
       "      <td>0.01680</td>\n",
       "      <td>0.01680</td>\n",
       "      <td>0.01680</td>\n",
       "      <td>0.01680</td>\n",
       "      <td>0.01680</td>\n",
       "      <td>0.01680</td>\n",
       "      <td>0.01680</td>\n",
       "    </tr>\n",
       "  </tbody>\n",
       "</table>\n",
       "<p>53607 rows × 10 columns</p>\n",
       "</div>"
      ],
      "text/plain": [
       "                              topic_1  topic_2  topic_3  topic_4  topic_5  \\\n",
       "title                                                                       \n",
       "Summer Stock                  0.01914  0.01913  0.27049  0.01914  0.01914   \n",
       "In a Lonely Place             0.01193  0.01193  0.01193  0.01193  0.24744   \n",
       "Sunset Blvd.                  0.01388  0.01388  0.01388  0.01387  0.01388   \n",
       "Cinderella                    0.55141  0.01468  0.01468  0.01469  0.01468   \n",
       "All About Eve                 0.01723  0.01723  0.44256  0.01723  0.01723   \n",
       "...                               ...      ...      ...      ...      ...   \n",
       "Sang froid                    0.75120  0.02764  0.02765  0.02764  0.02766   \n",
       "Bitterzoet Concert Film       0.01553  0.01553  0.01553  0.01553  0.01553   \n",
       "Kiwewe Nyeusi (Black Trauma)  0.03045  0.03045  0.03044  0.03045  0.03045   \n",
       "Who Laughs in Hell            0.02416  0.02416  0.02415  0.02417  0.02416   \n",
       "Gully Gang                    0.01680  0.01680  0.84881  0.01680  0.01680   \n",
       "\n",
       "                              topic_6  topic_7  topic_8  topic_9  topic_10  \n",
       "title                                                                       \n",
       "Summer Stock                  0.01914  0.57641  0.01914  0.01914   0.01914  \n",
       "In a Lonely Place             0.01193  0.01193  0.01193  0.65709   0.01193  \n",
       "Sunset Blvd.                  0.01388  0.01388  0.01388  0.87511   0.01388  \n",
       "Cinderella                    0.01468  0.01468  0.33112  0.01468   0.01468  \n",
       "All About Eve                 0.01723  0.41959  0.01723  0.01723   0.01723  \n",
       "...                               ...      ...      ...      ...       ...  \n",
       "Sang froid                    0.02764  0.02764  0.02764  0.02764   0.02765  \n",
       "Bitterzoet Concert Film       0.01553  0.86022  0.01553  0.01553   0.01553  \n",
       "Kiwewe Nyeusi (Black Trauma)  0.03044  0.03045  0.03045  0.72597   0.03045  \n",
       "Who Laughs in Hell            0.02416  0.02416  0.78256  0.02416   0.02416  \n",
       "Gully Gang                    0.01680  0.01680  0.01680  0.01680   0.01680  \n",
       "\n",
       "[53607 rows x 10 columns]"
      ]
     },
     "execution_count": 62,
     "metadata": {},
     "output_type": "execute_result"
    }
   ],
   "source": [
    "H = pd.DataFrame(topic_values.round(5),\n",
    "             index = plot_df.title,\n",
    "             columns = [\"topic_1\",\"topic_2\",\"topic_3\",'topic_4','topic_5',\\\n",
    "                       'topic_6','topic_7','topic_8','topic_9','topic_10'])\n",
    "H"
   ]
  },
  {
   "cell_type": "code",
   "execution_count": 63,
   "metadata": {},
   "outputs": [],
   "source": [
    "topic_df = H.reset_index()"
   ]
  },
  {
   "cell_type": "code",
   "execution_count": 64,
   "metadata": {},
   "outputs": [],
   "source": [
    "plot_topic_df = pd.merge(plot_df,topic_df,on='title')"
   ]
  },
  {
   "cell_type": "code",
   "execution_count": 65,
   "metadata": {
    "scrolled": true
   },
   "outputs": [
    {
     "data": {
      "text/html": [
       "<div>\n",
       "<style scoped>\n",
       "    .dataframe tbody tr th:only-of-type {\n",
       "        vertical-align: middle;\n",
       "    }\n",
       "\n",
       "    .dataframe tbody tr th {\n",
       "        vertical-align: top;\n",
       "    }\n",
       "\n",
       "    .dataframe thead th {\n",
       "        text-align: right;\n",
       "    }\n",
       "</style>\n",
       "<table border=\"1\" class=\"dataframe\">\n",
       "  <thead>\n",
       "    <tr style=\"text-align: right;\">\n",
       "      <th></th>\n",
       "      <th>title</th>\n",
       "      <th>title_id</th>\n",
       "      <th>genres</th>\n",
       "      <th>release_date</th>\n",
       "      <th>plot</th>\n",
       "      <th>year_of_release</th>\n",
       "      <th>topic_1</th>\n",
       "      <th>topic_2</th>\n",
       "      <th>topic_3</th>\n",
       "      <th>topic_4</th>\n",
       "      <th>topic_5</th>\n",
       "      <th>topic_6</th>\n",
       "      <th>topic_7</th>\n",
       "      <th>topic_8</th>\n",
       "      <th>topic_9</th>\n",
       "      <th>topic_10</th>\n",
       "    </tr>\n",
       "  </thead>\n",
       "  <tbody>\n",
       "    <tr>\n",
       "      <th>0</th>\n",
       "      <td>Summer Stock</td>\n",
       "      <td>tt0043012</td>\n",
       "      <td>Musical, Romance</td>\n",
       "      <td>31 August 1950</td>\n",
       "      <td>As a favor to her actress sister Abigail, New ...</td>\n",
       "      <td>1950</td>\n",
       "      <td>0.01914</td>\n",
       "      <td>0.01913</td>\n",
       "      <td>0.27049</td>\n",
       "      <td>0.01914</td>\n",
       "      <td>0.01914</td>\n",
       "      <td>0.01914</td>\n",
       "      <td>0.57641</td>\n",
       "      <td>0.01914</td>\n",
       "      <td>0.01914</td>\n",
       "      <td>0.01914</td>\n",
       "    </tr>\n",
       "    <tr>\n",
       "      <th>1</th>\n",
       "      <td>In a Lonely Place</td>\n",
       "      <td>tt0042593</td>\n",
       "      <td>Drama, Film-Noir, Mystery</td>\n",
       "      <td>17 May 1950</td>\n",
       "      <td>Dixon Steele is a Hollywood screenwriter who h...</td>\n",
       "      <td>1950</td>\n",
       "      <td>0.01193</td>\n",
       "      <td>0.01193</td>\n",
       "      <td>0.01193</td>\n",
       "      <td>0.01193</td>\n",
       "      <td>0.24744</td>\n",
       "      <td>0.01193</td>\n",
       "      <td>0.01193</td>\n",
       "      <td>0.01193</td>\n",
       "      <td>0.65709</td>\n",
       "      <td>0.01193</td>\n",
       "    </tr>\n",
       "    <tr>\n",
       "      <th>2</th>\n",
       "      <td>Sunset Blvd.</td>\n",
       "      <td>tt0043014</td>\n",
       "      <td>Drama, Film-Noir</td>\n",
       "      <td>10 August 1950</td>\n",
       "      <td>Joe Gillis is a struggling hack B-movie Hollyw...</td>\n",
       "      <td>1950</td>\n",
       "      <td>0.01388</td>\n",
       "      <td>0.01388</td>\n",
       "      <td>0.01388</td>\n",
       "      <td>0.01387</td>\n",
       "      <td>0.01388</td>\n",
       "      <td>0.01388</td>\n",
       "      <td>0.01388</td>\n",
       "      <td>0.01388</td>\n",
       "      <td>0.87511</td>\n",
       "      <td>0.01388</td>\n",
       "    </tr>\n",
       "    <tr>\n",
       "      <th>3</th>\n",
       "      <td>Cinderella</td>\n",
       "      <td>tt0042332</td>\n",
       "      <td>Animation, Family, Fantasy</td>\n",
       "      <td>15 February 1950</td>\n",
       "      <td>In a far away, long ago kingdom, Cinderella is...</td>\n",
       "      <td>1950</td>\n",
       "      <td>0.55141</td>\n",
       "      <td>0.01468</td>\n",
       "      <td>0.01468</td>\n",
       "      <td>0.01469</td>\n",
       "      <td>0.01468</td>\n",
       "      <td>0.01468</td>\n",
       "      <td>0.01468</td>\n",
       "      <td>0.33112</td>\n",
       "      <td>0.01468</td>\n",
       "      <td>0.01468</td>\n",
       "    </tr>\n",
       "    <tr>\n",
       "      <th>4</th>\n",
       "      <td>Cinderella</td>\n",
       "      <td>tt0042332</td>\n",
       "      <td>Animation, Family, Fantasy</td>\n",
       "      <td>15 February 1950</td>\n",
       "      <td>In a far away, long ago kingdom, Cinderella is...</td>\n",
       "      <td>1950</td>\n",
       "      <td>0.01973</td>\n",
       "      <td>0.01973</td>\n",
       "      <td>0.01973</td>\n",
       "      <td>0.01973</td>\n",
       "      <td>0.01973</td>\n",
       "      <td>0.01973</td>\n",
       "      <td>0.01973</td>\n",
       "      <td>0.01973</td>\n",
       "      <td>0.82244</td>\n",
       "      <td>0.01973</td>\n",
       "    </tr>\n",
       "    <tr>\n",
       "      <th>...</th>\n",
       "      <td>...</td>\n",
       "      <td>...</td>\n",
       "      <td>...</td>\n",
       "      <td>...</td>\n",
       "      <td>...</td>\n",
       "      <td>...</td>\n",
       "      <td>...</td>\n",
       "      <td>...</td>\n",
       "      <td>...</td>\n",
       "      <td>...</td>\n",
       "      <td>...</td>\n",
       "      <td>...</td>\n",
       "      <td>...</td>\n",
       "      <td>...</td>\n",
       "      <td>...</td>\n",
       "      <td>...</td>\n",
       "    </tr>\n",
       "    <tr>\n",
       "      <th>58652</th>\n",
       "      <td>Sang froid</td>\n",
       "      <td>tt11895902</td>\n",
       "      <td>Drama</td>\n",
       "      <td>11 September 2020</td>\n",
       "      <td>Claire is a lawyer. Obsessed with her work, sh...</td>\n",
       "      <td>2020</td>\n",
       "      <td>0.75120</td>\n",
       "      <td>0.02764</td>\n",
       "      <td>0.02765</td>\n",
       "      <td>0.02764</td>\n",
       "      <td>0.02766</td>\n",
       "      <td>0.02764</td>\n",
       "      <td>0.02764</td>\n",
       "      <td>0.02764</td>\n",
       "      <td>0.02764</td>\n",
       "      <td>0.02765</td>\n",
       "    </tr>\n",
       "    <tr>\n",
       "      <th>58653</th>\n",
       "      <td>Bitterzoet Concert Film</td>\n",
       "      <td>tt12626546</td>\n",
       "      <td>Music</td>\n",
       "      <td>3 July 2020</td>\n",
       "      <td>In January 2020, Eefje released her fourth alb...</td>\n",
       "      <td>2020</td>\n",
       "      <td>0.01553</td>\n",
       "      <td>0.01553</td>\n",
       "      <td>0.01553</td>\n",
       "      <td>0.01553</td>\n",
       "      <td>0.01553</td>\n",
       "      <td>0.01553</td>\n",
       "      <td>0.86022</td>\n",
       "      <td>0.01553</td>\n",
       "      <td>0.01553</td>\n",
       "      <td>0.01553</td>\n",
       "    </tr>\n",
       "    <tr>\n",
       "      <th>58654</th>\n",
       "      <td>Kiwewe Nyeusi (Black Trauma)</td>\n",
       "      <td>tt12798962</td>\n",
       "      <td>Drama</td>\n",
       "      <td>6 July 2020</td>\n",
       "      <td>Kiwewe Nyeusi is Swahili for the words Black T...</td>\n",
       "      <td>2020</td>\n",
       "      <td>0.03045</td>\n",
       "      <td>0.03045</td>\n",
       "      <td>0.03044</td>\n",
       "      <td>0.03045</td>\n",
       "      <td>0.03045</td>\n",
       "      <td>0.03044</td>\n",
       "      <td>0.03045</td>\n",
       "      <td>0.03045</td>\n",
       "      <td>0.72597</td>\n",
       "      <td>0.03045</td>\n",
       "    </tr>\n",
       "    <tr>\n",
       "      <th>58655</th>\n",
       "      <td>Who Laughs in Hell</td>\n",
       "      <td>tt12007548</td>\n",
       "      <td>Comedy, Drama, Thriller</td>\n",
       "      <td>25 March 2020</td>\n",
       "      <td>King (Liam Bilsky) is an extremely hostile, mo...</td>\n",
       "      <td>2020</td>\n",
       "      <td>0.02416</td>\n",
       "      <td>0.02416</td>\n",
       "      <td>0.02415</td>\n",
       "      <td>0.02417</td>\n",
       "      <td>0.02416</td>\n",
       "      <td>0.02416</td>\n",
       "      <td>0.02416</td>\n",
       "      <td>0.78256</td>\n",
       "      <td>0.02416</td>\n",
       "      <td>0.02416</td>\n",
       "    </tr>\n",
       "    <tr>\n",
       "      <th>58656</th>\n",
       "      <td>Gully Gang</td>\n",
       "      <td>tt13369990</td>\n",
       "      <td>Comedy</td>\n",
       "      <td>9 October 2020</td>\n",
       "      <td>A man named Malli, who was already in love wit...</td>\n",
       "      <td>2020</td>\n",
       "      <td>0.01680</td>\n",
       "      <td>0.01680</td>\n",
       "      <td>0.84881</td>\n",
       "      <td>0.01680</td>\n",
       "      <td>0.01680</td>\n",
       "      <td>0.01680</td>\n",
       "      <td>0.01680</td>\n",
       "      <td>0.01680</td>\n",
       "      <td>0.01680</td>\n",
       "      <td>0.01680</td>\n",
       "    </tr>\n",
       "  </tbody>\n",
       "</table>\n",
       "<p>58657 rows × 16 columns</p>\n",
       "</div>"
      ],
      "text/plain": [
       "                              title    title_id                      genres  \\\n",
       "0                      Summer Stock   tt0043012            Musical, Romance   \n",
       "1                 In a Lonely Place   tt0042593   Drama, Film-Noir, Mystery   \n",
       "2                      Sunset Blvd.   tt0043014            Drama, Film-Noir   \n",
       "3                        Cinderella   tt0042332  Animation, Family, Fantasy   \n",
       "4                        Cinderella   tt0042332  Animation, Family, Fantasy   \n",
       "...                             ...         ...                         ...   \n",
       "58652                    Sang froid  tt11895902                       Drama   \n",
       "58653       Bitterzoet Concert Film  tt12626546                       Music   \n",
       "58654  Kiwewe Nyeusi (Black Trauma)  tt12798962                       Drama   \n",
       "58655            Who Laughs in Hell  tt12007548     Comedy, Drama, Thriller   \n",
       "58656                    Gully Gang  tt13369990                      Comedy   \n",
       "\n",
       "            release_date                                               plot  \\\n",
       "0         31 August 1950  As a favor to her actress sister Abigail, New ...   \n",
       "1            17 May 1950  Dixon Steele is a Hollywood screenwriter who h...   \n",
       "2         10 August 1950  Joe Gillis is a struggling hack B-movie Hollyw...   \n",
       "3       15 February 1950  In a far away, long ago kingdom, Cinderella is...   \n",
       "4       15 February 1950  In a far away, long ago kingdom, Cinderella is...   \n",
       "...                  ...                                                ...   \n",
       "58652  11 September 2020  Claire is a lawyer. Obsessed with her work, sh...   \n",
       "58653        3 July 2020  In January 2020, Eefje released her fourth alb...   \n",
       "58654        6 July 2020  Kiwewe Nyeusi is Swahili for the words Black T...   \n",
       "58655      25 March 2020  King (Liam Bilsky) is an extremely hostile, mo...   \n",
       "58656     9 October 2020  A man named Malli, who was already in love wit...   \n",
       "\n",
       "       year_of_release  topic_1  topic_2  topic_3  topic_4  topic_5  topic_6  \\\n",
       "0                 1950  0.01914  0.01913  0.27049  0.01914  0.01914  0.01914   \n",
       "1                 1950  0.01193  0.01193  0.01193  0.01193  0.24744  0.01193   \n",
       "2                 1950  0.01388  0.01388  0.01388  0.01387  0.01388  0.01388   \n",
       "3                 1950  0.55141  0.01468  0.01468  0.01469  0.01468  0.01468   \n",
       "4                 1950  0.01973  0.01973  0.01973  0.01973  0.01973  0.01973   \n",
       "...                ...      ...      ...      ...      ...      ...      ...   \n",
       "58652             2020  0.75120  0.02764  0.02765  0.02764  0.02766  0.02764   \n",
       "58653             2020  0.01553  0.01553  0.01553  0.01553  0.01553  0.01553   \n",
       "58654             2020  0.03045  0.03045  0.03044  0.03045  0.03045  0.03044   \n",
       "58655             2020  0.02416  0.02416  0.02415  0.02417  0.02416  0.02416   \n",
       "58656             2020  0.01680  0.01680  0.84881  0.01680  0.01680  0.01680   \n",
       "\n",
       "       topic_7  topic_8  topic_9  topic_10  \n",
       "0      0.57641  0.01914  0.01914   0.01914  \n",
       "1      0.01193  0.01193  0.65709   0.01193  \n",
       "2      0.01388  0.01388  0.87511   0.01388  \n",
       "3      0.01468  0.33112  0.01468   0.01468  \n",
       "4      0.01973  0.01973  0.82244   0.01973  \n",
       "...        ...      ...      ...       ...  \n",
       "58652  0.02764  0.02764  0.02764   0.02765  \n",
       "58653  0.86022  0.01553  0.01553   0.01553  \n",
       "58654  0.03045  0.03045  0.72597   0.03045  \n",
       "58655  0.02416  0.78256  0.02416   0.02416  \n",
       "58656  0.01680  0.01680  0.01680   0.01680  \n",
       "\n",
       "[58657 rows x 16 columns]"
      ]
     },
     "execution_count": 65,
     "metadata": {},
     "output_type": "execute_result"
    }
   ],
   "source": [
    "plot_topic_df"
   ]
  },
  {
   "cell_type": "code",
   "execution_count": 66,
   "metadata": {},
   "outputs": [],
   "source": [
    "target = plot_df['year_of_release']\n",
    "target_names = list(target.unique())"
   ]
  },
  {
   "cell_type": "code",
   "execution_count": 67,
   "metadata": {},
   "outputs": [],
   "source": [
    "target_names = sorted(target_names)"
   ]
  },
  {
   "cell_type": "markdown",
   "metadata": {},
   "source": [
    "## KMeans clustering with the same number of topics found "
   ]
  },
  {
   "cell_type": "code",
   "execution_count": 87,
   "metadata": {},
   "outputs": [],
   "source": [
    "from sklearn.cluster import KMeans\n",
    "def display_cluster(X, km=[], num_clusters=0):\n",
    "    color = color=[\"khaki\", \"orange\", \"yellow\", \"yellowgreen\", \"forestgreen\", \"skyblue\", \"royalblue\", \"darkorchid\", \"violet\", \"purple\"]\n",
    "    alpha = 0.5\n",
    "    s = 20\n",
    "    \n",
    "    if num_clusters == 0:\n",
    "        plt.scatter(X[:,0], X[:,1], c=color[0], alpha=alpha, s=s)\n",
    "        \n",
    "    else:\n",
    "        for i in range(num_clusters):\n",
    "            plt.scatter(X[km.labels_==i,0],X[km.labels_==i,1],c = color[i],alpha = alpha,s=s)\n",
    "            plt.scatter(km.cluster_centers_[i][0],km.cluster_centers_[i][1],c = color[i], marker = 'x', s = 100)\n",
    "    plt.savefig('cluster.png')"
   ]
  },
  {
   "cell_type": "code",
   "execution_count": 69,
   "metadata": {},
   "outputs": [
    {
     "data": {
      "image/png": "[encoded data removed]",
      "text/plain": [
       "<Figure size 432x288 with 1 Axes>"
      ]
     },
     "metadata": {
      "needs_background": "light"
     },
     "output_type": "display_data"
    }
   ],
   "source": [
    "display_cluster(topic_values)"
   ]
  },
  {
   "cell_type": "code",
   "execution_count": 70,
   "metadata": {
    "scrolled": true
   },
   "outputs": [
    {
     "data": {
      "image/png": "[encoded data removed]",
      "text/plain": [
       "<Figure size 432x288 with 1 Axes>"
      ]
     },
     "metadata": {
      "needs_background": "light"
     },
     "output_type": "display_data"
    }
   ],
   "source": [
    "num_clusters = 10\n",
    "# We set n_init=1 so that we can see one particular outcome\n",
    "km = KMeans(n_clusters=num_clusters, random_state=10, n_init=1)\n",
    "km.fit(topic_values)\n",
    "\n",
    "display_cluster(topic_values,km,num_clusters)"
   ]
  },
  {
   "cell_type": "markdown",
   "metadata": {},
   "source": [
    "### Plot the inertia to find the elbow"
   ]
  },
  {
   "cell_type": "code",
   "execution_count": 72,
   "metadata": {},
   "outputs": [],
   "source": [
    "inertias = []\n",
    "import numpy as np\n",
    "for k_ in np.arange(1, 10):\n",
    "    km = KMeans(n_clusters=k_)\n",
    "    km.fit(topic_values)\n",
    "    inertias.append(km.inertia_)\n"
   ]
  },
  {
   "cell_type": "code",
   "execution_count": 86,
   "metadata": {},
   "outputs": [
    {
     "data": {
      "image/png": "[encoded data removed]",
      "text/plain": [
       "<Figure size 432x288 with 1 Axes>"
      ]
     },
     "metadata": {
      "needs_background": "light"
     },
     "output_type": "display_data"
    }
   ],
   "source": [
    "plt.plot(np.arange(1, 10), inertias, marker='o')\n",
    "plt.vlines(x=4, ymin=0, ymax=max(inertias), ls='--', label='Elbow')\n",
    "plt.ylabel(\"Inertia\")\n",
    "plt.xlabel('k')\n",
    "plt.legend();\n",
    "plt.savefig('Intertia.png')"
   ]
  },
  {
   "cell_type": "code",
   "execution_count": 88,
   "metadata": {},
   "outputs": [
    {
     "data": {
      "image/png": "[encoded data removed]",
      "text/plain": [
       "<Figure size 432x288 with 1 Axes>"
      ]
     },
     "metadata": {
      "needs_background": "light"
     },
     "output_type": "display_data"
    }
   ],
   "source": [
    "num_clusters = 4\n",
    "# We set n_init=1 so that we can see one particular outcome\n",
    "km = KMeans(n_clusters=num_clusters, random_state=10, n_init=1)\n",
    "km.fit(topic_values)\n",
    "\n",
    "display_cluster(topic_values,km,num_clusters)"
   ]
  },
  {
   "cell_type": "markdown",
   "metadata": {},
   "source": [
    "## Heatmap by year"
   ]
  },
  {
   "cell_type": "code",
   "execution_count": 85,
   "metadata": {},
   "outputs": [
    {
     "data": {
      "image/png": "[encoded data removed]",
      "text/plain": [
       "<Figure size 432x288 with 2 Axes>"
      ]
     },
     "metadata": {
      "needs_background": "light"
     },
     "output_type": "display_data"
    }
   ],
   "source": [
    "import seaborn as sns\n",
    "year_df = plot_topic_df.groupby('year_of_release').sum()\n",
    "sns.heatmap(year_df.T)\n",
    "plt.savefig(\"heatmap.png\")"
   ]
  },
  {
   "cell_type": "markdown",
   "metadata": {},
   "source": [
    "## LDA with genism"
   ]
  },
  {
   "cell_type": "code",
   "execution_count": 77,
   "metadata": {},
   "outputs": [],
   "source": [
    "nlp = NLPPipe(vectorizer=TfidfVectorizer(stop_words = stemmed_stop_words,min_df=0.01,ngram_range=(1,2)), \n",
    "              cleaning_function=clean_text, \n",
    "              tokenizer=TreebankWordTokenizer().tokenize,\n",
    "              stemmer = PorterStemmer())\n",
    "\n",
    "tf_result = nlp.fit_transform(corpus)"
   ]
  },
  {
   "cell_type": "code",
   "execution_count": 78,
   "metadata": {},
   "outputs": [
    {
     "data": {
      "text/plain": [
       "array([[0.        , 0.        , 0.        , ..., 0.        , 0.        ,\n",
       "        0.        ],\n",
       "       [0.        , 0.        , 0.        , ..., 0.        , 0.        ,\n",
       "        0.        ],\n",
       "       [0.        , 0.        , 0.        , ..., 0.        , 0.        ,\n",
       "        0.        ],\n",
       "       ...,\n",
       "       [0.        , 0.10145001, 0.        , ..., 0.        , 0.        ,\n",
       "        0.        ],\n",
       "       [0.        , 0.        , 0.        , ..., 0.        , 0.        ,\n",
       "        0.        ],\n",
       "       [0.        , 0.        , 0.        , ..., 0.        , 0.        ,\n",
       "        0.        ]])"
      ]
     },
     "execution_count": 78,
     "metadata": {},
     "output_type": "execute_result"
    }
   ],
   "source": [
    "tf_result.T.toarray()"
   ]
  },
  {
   "cell_type": "code",
   "execution_count": 79,
   "metadata": {},
   "outputs": [],
   "source": [
    "from gensim import interfaces, utils, matutils\n",
    "corpus = matutils.Sparse2Corpus(tf_result.T)\n",
    "id2word = dict((v, k) for k, v in nlp.vectorizer.vocabulary_.items())"
   ]
  },
  {
   "cell_type": "code",
   "execution_count": 80,
   "metadata": {},
   "outputs": [],
   "source": [
    "import gensim\n",
    "import gensim.corpora as corpora\n",
    "from gensim import interfaces, utils, matutils\n",
    "\n",
    "corpus = matutils.Sparse2Corpus(tf_result.transpose())\n",
    "id2word = dict((v, k) for k, v in nlp.vectorizer.vocabulary_.items())\n",
    "\n",
    "lda_model = gensim.models.ldamodel.LdaModel(corpus=corpus,\n",
    "                                           id2word=id2word,\n",
    "                                           num_topics=10, \n",
    "                                           random_state=10)"
   ]
  },
  {
   "cell_type": "code",
   "execution_count": 81,
   "metadata": {},
   "outputs": [
    {
     "data": {
      "text/plain": [
       "[(0,\n",
       "  '0.018*\"town\" + 0.017*\"small\" + 0.012*\"live\" + 0.010*\"small town\" + 0.010*\"life\" + 0.009*\"famili\" + 0.009*\"peopl\" + 0.008*\"differ\" + 0.008*\"road\" + 0.007*\"commun\"'),\n",
       " (1,\n",
       "  '0.017*\"war\" + 0.013*\"fight\" + 0.012*\"gang\" + 0.011*\"soldier\" + 0.011*\"prison\" + 0.010*\"battl\" + 0.010*\"group\" + 0.009*\"team\" + 0.009*\"govern\" + 0.008*\"forc\"'),\n",
       " (2,\n",
       "  '0.018*\"music\" + 0.014*\"featur\" + 0.011*\"actor\" + 0.011*\"play\" + 0.011*\"life\" + 0.010*\"world\" + 0.009*\"perform\" + 0.009*\"artist\" + 0.009*\"band\" + 0.009*\"drama\"'),\n",
       " (3,\n",
       "  '0.017*\"murder\" + 0.014*\"investig\" + 0.012*\"polic\" + 0.012*\"case\" + 0.012*\"mysteri\" + 0.011*\"killer\" + 0.009*\"kill\" + 0.009*\"detect\" + 0.008*\"crime\" + 0.007*\"mission\"'),\n",
       " (4,\n",
       "  '0.025*\"filmmak\" + 0.016*\"young\" + 0.016*\"girl\" + 0.015*\"explor\" + 0.013*\"comedi\" + 0.012*\"life\" + 0.012*\"live\" + 0.011*\"love\" + 0.011*\"path\" + 0.011*\"struggl\"'),\n",
       " (5,\n",
       "  '0.016*\"school\" + 0.016*\"love\" + 0.011*\"friend\" + 0.010*\"life\" + 0.009*\"student\" + 0.009*\"high\" + 0.009*\"high school\" + 0.008*\"famili\" + 0.008*\"relationship\" + 0.007*\"fall\"'),\n",
       " (6,\n",
       "  '0.016*\"life\" + 0.010*\"love\" + 0.010*\"past\" + 0.010*\"world\" + 0.009*\"friend\" + 0.009*\"memori\" + 0.008*\"live\" + 0.008*\"haunt\" + 0.008*\"journey\" + 0.007*\"human\"'),\n",
       " (7,\n",
       "  '0.023*\"mother\" + 0.018*\"father\" + 0.015*\"famili\" + 0.012*\"bond\" + 0.012*\"son\" + 0.011*\"boy\" + 0.011*\"brother\" + 0.011*\"children\" + 0.010*\"child\" + 0.010*\"sister\"'),\n",
       " (8,\n",
       "  '0.026*\"young\" + 0.023*\"man\" + 0.020*\"woman\" + 0.020*\"villag\" + 0.017*\"young man\" + 0.016*\"famili\" + 0.015*\"life\" + 0.013*\"love\" + 0.012*\"young woman\" + 0.012*\"father\"'),\n",
       " (9,\n",
       "  '0.011*\"life\" + 0.009*\"friend\" + 0.008*\"stranger\" + 0.008*\"job\" + 0.008*\"money\" + 0.007*\"live\" + 0.007*\"thing\" + 0.006*\"guy\" + 0.006*\"hous\" + 0.006*\"turn\"')]"
      ]
     },
     "execution_count": 81,
     "metadata": {},
     "output_type": "execute_result"
    }
   ],
   "source": [
    "lda_model.print_topics()"
   ]
  },
  {
   "cell_type": "code",
   "execution_count": 82,
   "metadata": {},
   "outputs": [
    {
     "data": {
      "image/png": "[encoded data removed]",
      "text/plain": [
       "<Figure size 720x720 with 10 Axes>"
      ]
     },
     "metadata": {
      "needs_background": "light"
     },
     "output_type": "display_data"
    }
   ],
   "source": [
    "from matplotlib import pyplot as plt\n",
    "from wordcloud import WordCloud, STOPWORDS\n",
    "import matplotlib.colors as mcolors\n",
    "\n",
    "cols = [color for name, color in mcolors.TABLEAU_COLORS.items()]  # more colors: 'mcolors.XKCD_COLORS'\n",
    "\n",
    "cloud = WordCloud(stopwords=stop_words,\n",
    "                  background_color='white',\n",
    "                  width=2500,\n",
    "                  height=1800,\n",
    "                  max_words=10,\n",
    "                  colormap='tab10',\n",
    "                  color_func=lambda *args, **kwargs: cols[i],\n",
    "                  prefer_horizontal=1.0)\n",
    "\n",
    "topics = lda_model.show_topics(formatted=False)\n",
    "\n",
    "fig, axes = plt.subplots(2, 5, figsize=(10,10), sharex=True, sharey=True)\n",
    "\n",
    "for i, ax in enumerate(axes.flatten()):\n",
    "    fig.add_subplot(ax)\n",
    "    topic_words = dict(topics[i][1])\n",
    "    cloud.generate_from_frequencies(topic_words, max_font_size=300)\n",
    "    plt.gca().imshow(cloud)\n",
    "    plt.gca().set_title('Topic ' + str(i), fontdict=dict(size=16))\n",
    "    plt.gca().axis('off')\n",
    "\n",
    "\n",
    "plt.subplots_adjust(wspace=0, hspace=0)\n",
    "plt.axis('off')\n",
    "plt.margins(x=0, y=0)\n",
    "plt.tight_layout()\n",
    "plt.show()"
   ]
  },
  {
   "cell_type": "markdown",
   "metadata": {},
   "source": [
    "### Got some good clusters and topics so now I will explore a books dataset for my recommender"
   ]
  },
  {
   "cell_type": "code",
   "execution_count": null,
   "metadata": {},
   "outputs": [],
   "source": []
  }
 ],
 "metadata": {
  "kernelspec": {
   "display_name": "Python 3",
   "language": "python",
   "name": "python3"
  },
  "language_info": {
   "codemirror_mode": {
    "name": "ipython",
    "version": 3
   },
   "file_extension": ".py",
   "mimetype": "text/x-python",
   "name": "python",
   "nbconvert_exporter": "python",
   "pygments_lexer": "ipython3",
   "version": "3.8.5"
  }
 },
 "nbformat": 4,
 "nbformat_minor": 4
}
